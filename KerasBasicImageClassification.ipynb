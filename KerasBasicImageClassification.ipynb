{
  "nbformat": 4,
  "nbformat_minor": 0,
  "metadata": {
    "colab": {
      "name": "CBÜ Workshop.ipynb",
      "provenance": [],
      "collapsed_sections": []
    },
    "kernelspec": {
      "name": "python3",
      "display_name": "Python 3"
    },
    "language_info": {
      "name": "python"
    },
    "accelerator": "GPU"
  },
  "cells": [
    {
      "cell_type": "code",
      "metadata": {
        "id": "ri5R2OyKcM6y"
      },
      "source": [
        "from tensorflow import keras"
      ],
      "execution_count": 1,
      "outputs": []
    },
    {
      "cell_type": "code",
      "metadata": {
        "id": "6CrJWIAtdKbv"
      },
      "source": [
        "(train_images, train_labels), (test_images, test_labels) = keras.datasets.cifar10.load_data()"
      ],
      "execution_count": 2,
      "outputs": []
    },
    {
      "cell_type": "code",
      "metadata": {
        "id": "HxkRkqLOdbRq"
      },
      "source": [
        "train_images, test_images = train_images / 255, test_images / 255"
      ],
      "execution_count": 3,
      "outputs": []
    },
    {
      "cell_type": "code",
      "metadata": {
        "id": "co98pc4RdxG8"
      },
      "source": [
        "from keras import layers, models, losses"
      ],
      "execution_count": 4,
      "outputs": []
    },
    {
      "cell_type": "code",
      "metadata": {
        "id": "M5Ten0Iad0l5"
      },
      "source": [
        "model = models.Sequential()"
      ],
      "execution_count": 5,
      "outputs": []
    },
    {
      "cell_type": "code",
      "metadata": {
        "colab": {
          "base_uri": "https://localhost:8080/"
        },
        "id": "91z6H7l9ehuw",
        "outputId": "5fb5cf81-35bb-4124-dd19-abbfb729ed4b"
      },
      "source": [
        "train_images.shape[0] + test_images.shape[0]"
      ],
      "execution_count": 6,
      "outputs": [
        {
          "output_type": "execute_result",
          "data": {
            "text/plain": [
              "60000"
            ]
          },
          "metadata": {},
          "execution_count": 6
        }
      ]
    },
    {
      "cell_type": "code",
      "metadata": {
        "id": "8t78mEdld-JV"
      },
      "source": [
        "#Feature Learning\n",
        "model.add(layers.Conv2D(32, (3, 3), activation=\"relu\", input_shape=(32,32,3))) #input \n",
        "model.add(layers.MaxPooling2D())\n",
        "model.add(layers.Conv2D(64, (3,3), activation=\"relu\"))\n",
        "model.add(layers.MaxPooling2D())\n",
        "model.add(layers.Conv2D(64, (3,3), activation = \"relu\"))\n",
        "model.add(layers.MaxPooling2D())"
      ],
      "execution_count": 7,
      "outputs": []
    },
    {
      "cell_type": "code",
      "metadata": {
        "id": "zw230KgwfNyk"
      },
      "source": [
        "#Classification\n",
        "model.add(layers.Flatten())\n",
        "model.add(layers.Dense(64, activation = \"relu\"))\n",
        "model.add(layers.Dense(10))"
      ],
      "execution_count": 8,
      "outputs": []
    },
    {
      "cell_type": "code",
      "metadata": {
        "id": "ZdljWEerf7K1"
      },
      "source": [
        "model.compile(optimizer=\"adam\", \n",
        "              loss = losses.SparseCategoricalCrossentropy(from_logits=True),\n",
        "              metrics=['accuracy'])"
      ],
      "execution_count": 9,
      "outputs": []
    },
    {
      "cell_type": "code",
      "metadata": {
        "id": "HP0EuQtygWop"
      },
      "source": [
        "from keras.preprocessing.image import ImageDataGenerator"
      ],
      "execution_count": 10,
      "outputs": []
    },
    {
      "cell_type": "code",
      "metadata": {
        "id": "B8iLZHXdg-FS"
      },
      "source": [
        "data_generator = ImageDataGenerator(\n",
        "    rotation_range=40,\n",
        "    width_shift_range = 0.2,\n",
        "    height_shift_range = 0.2,\n",
        "    shear_range = 0.2,\n",
        "    zoom_range = 0.2,\n",
        "    horizontal_flip = True,\n",
        "    fill_mode = 'nearest'\n",
        ")"
      ],
      "execution_count": 11,
      "outputs": []
    },
    {
      "cell_type": "code",
      "metadata": {
        "id": "HDIK4pXdhX-F"
      },
      "source": [
        "data_generator.fit(train_images)"
      ],
      "execution_count": 12,
      "outputs": []
    },
    {
      "cell_type": "code",
      "metadata": {
        "colab": {
          "base_uri": "https://localhost:8080/"
        },
        "id": "YgW1Se8Ki3dU",
        "outputId": "00b24a95-970b-4535-ff74-02e0c840def1"
      },
      "source": [
        "train_labels.shape"
      ],
      "execution_count": 13,
      "outputs": [
        {
          "output_type": "execute_result",
          "data": {
            "text/plain": [
              "(50000, 1)"
            ]
          },
          "metadata": {},
          "execution_count": 13
        }
      ]
    },
    {
      "cell_type": "code",
      "metadata": {
        "colab": {
          "base_uri": "https://localhost:8080/"
        },
        "id": "FoYdXgDqi5p_",
        "outputId": "f18002c8-2964-466f-b929-057cdd431b0d"
      },
      "source": [
        "train_images.shape"
      ],
      "execution_count": 14,
      "outputs": [
        {
          "output_type": "execute_result",
          "data": {
            "text/plain": [
              "(50000, 32, 32, 3)"
            ]
          },
          "metadata": {},
          "execution_count": 14
        }
      ]
    },
    {
      "cell_type": "code",
      "metadata": {
        "colab": {
          "base_uri": "https://localhost:8080/"
        },
        "id": "kWfbG19Thcn0",
        "outputId": "2a22d1f2-572d-476b-c1b8-cfd8e8840aba"
      },
      "source": [
        "model.fit(data_generator.flow(train_images, train_labels), batch_size = 2048,\n",
        "                              epochs = 25, verbose = 1)"
      ],
      "execution_count": 37,
      "outputs": [
        {
          "output_type": "stream",
          "name": "stdout",
          "text": [
            "Epoch 1/25\n",
            "1563/1563 [==============================] - 46s 30ms/step - loss: 1.6765 - accuracy: 0.1000\n",
            "Epoch 2/25\n",
            "1563/1563 [==============================] - 45s 29ms/step - loss: 1.5521 - accuracy: 0.0966\n",
            "Epoch 3/25\n",
            "1563/1563 [==============================] - 45s 29ms/step - loss: 1.4694 - accuracy: 0.0974\n",
            "Epoch 4/25\n",
            "1563/1563 [==============================] - 44s 28ms/step - loss: 1.4113 - accuracy: 0.0966\n",
            "Epoch 5/25\n",
            "1563/1563 [==============================] - 45s 29ms/step - loss: 1.3706 - accuracy: 0.0963\n",
            "Epoch 6/25\n",
            "1563/1563 [==============================] - 44s 28ms/step - loss: 1.3428 - accuracy: 0.0970\n",
            "Epoch 7/25\n",
            "1563/1563 [==============================] - 45s 28ms/step - loss: 1.3069 - accuracy: 0.0983\n",
            "Epoch 8/25\n",
            "1563/1563 [==============================] - 44s 28ms/step - loss: 1.2780 - accuracy: 0.0993\n",
            "Epoch 9/25\n",
            "1563/1563 [==============================] - 44s 28ms/step - loss: 1.2584 - accuracy: 0.0986\n",
            "Epoch 10/25\n",
            "1563/1563 [==============================] - 43s 28ms/step - loss: 1.2486 - accuracy: 0.0989\n",
            "Epoch 11/25\n",
            "1563/1563 [==============================] - 44s 28ms/step - loss: 1.2259 - accuracy: 0.1008\n",
            "Epoch 12/25\n",
            "1563/1563 [==============================] - 44s 28ms/step - loss: 1.2143 - accuracy: 0.0988\n",
            "Epoch 13/25\n",
            "1563/1563 [==============================] - 44s 28ms/step - loss: 1.1984 - accuracy: 0.0995\n",
            "Epoch 14/25\n",
            "1563/1563 [==============================] - 45s 29ms/step - loss: 1.1896 - accuracy: 0.0994\n",
            "Epoch 15/25\n",
            "1563/1563 [==============================] - 44s 28ms/step - loss: 1.1812 - accuracy: 0.0996\n",
            "Epoch 16/25\n",
            "1563/1563 [==============================] - 44s 28ms/step - loss: 1.1683 - accuracy: 0.1012\n",
            "Epoch 17/25\n",
            "1563/1563 [==============================] - 44s 28ms/step - loss: 1.1624 - accuracy: 0.0998\n",
            "Epoch 18/25\n",
            "1563/1563 [==============================] - 44s 28ms/step - loss: 1.1571 - accuracy: 0.1023\n",
            "Epoch 19/25\n",
            "1563/1563 [==============================] - 44s 28ms/step - loss: 1.1427 - accuracy: 0.1011\n",
            "Epoch 20/25\n",
            "1563/1563 [==============================] - 44s 28ms/step - loss: 1.1348 - accuracy: 0.1016\n",
            "Epoch 21/25\n",
            "1563/1563 [==============================] - 45s 29ms/step - loss: 1.1308 - accuracy: 0.1008\n",
            "Epoch 22/25\n",
            "1563/1563 [==============================] - 45s 29ms/step - loss: 1.1261 - accuracy: 0.0999\n",
            "Epoch 23/25\n",
            "1563/1563 [==============================] - 44s 28ms/step - loss: 1.1200 - accuracy: 0.1006\n",
            "Epoch 24/25\n",
            "1563/1563 [==============================] - 44s 28ms/step - loss: 1.1051 - accuracy: 0.1009\n",
            "Epoch 25/25\n",
            "1563/1563 [==============================] - 44s 28ms/step - loss: 1.1076 - accuracy: 0.1012\n"
          ]
        },
        {
          "output_type": "execute_result",
          "data": {
            "text/plain": [
              "<keras.callbacks.History at 0x7f6da55fcad0>"
            ]
          },
          "metadata": {},
          "execution_count": 37
        }
      ]
    },
    {
      "cell_type": "code",
      "metadata": {
        "colab": {
          "base_uri": "https://localhost:8080/"
        },
        "id": "gD7aWRP7ieSy",
        "outputId": "f3d186b3-4048-4ddf-81be-2cb87804b929"
      },
      "source": [
        "loss = model.evaluate(data_generator.flow(test_images, test_labels), batch_size=2048)"
      ],
      "execution_count": 38,
      "outputs": [
        {
          "output_type": "stream",
          "name": "stdout",
          "text": [
            "313/313 [==============================] - 16s 50ms/step - loss: 1.1075 - accuracy: 0.1234\n"
          ]
        }
      ]
    },
    {
      "cell_type": "code",
      "metadata": {
        "id": "ZwMK3pSEkBen"
      },
      "source": [
        "class_name= [\"airplane\", \"automobile\",\"bird\",\"cat\",\"deer\",\"dog\",\"frog\",\"horse\", \"ship\",\"truck\"]"
      ],
      "execution_count": 39,
      "outputs": []
    },
    {
      "cell_type": "code",
      "metadata": {
        "id": "rvv9loGVkcaH"
      },
      "source": [
        "import matplotlib.pyplot as plt\n",
        "import numpy as np\n",
        "from keras.preprocessing import image"
      ],
      "execution_count": 40,
      "outputs": []
    },
    {
      "cell_type": "code",
      "metadata": {
        "id": "XVSp-Ajzkn9P"
      },
      "source": [
        "img = image.load_img(\"cat.jpeg\", target_size=(32,32,3))"
      ],
      "execution_count": 90,
      "outputs": []
    },
    {
      "cell_type": "code",
      "metadata": {
        "id": "Ofp9GEBslz80"
      },
      "source": [
        "#img = image.load_img(\"/content/download.jpeg\", target_size=(32,32,3))"
      ],
      "execution_count": 91,
      "outputs": []
    },
    {
      "cell_type": "code",
      "metadata": {
        "id": "A4vQapHKk2XD"
      },
      "source": [
        "img_array = image.img_to_array(img)\n",
        "img_array = img_array / 255\n",
        "reshaped_img_array = img_array.reshape((1,)+img_array.shape)"
      ],
      "execution_count": 92,
      "outputs": []
    },
    {
      "cell_type": "code",
      "metadata": {
        "colab": {
          "base_uri": "https://localhost:8080/",
          "height": 283
        },
        "id": "LLAzFf7rlcu3",
        "outputId": "05e0ffd4-825b-408e-ce40-48f92b5dfb21"
      },
      "source": [
        "plt.figure()\n",
        "plt.imshow(img_array)"
      ],
      "execution_count": 93,
      "outputs": [
        {
          "output_type": "execute_result",
          "data": {
            "text/plain": [
              "<matplotlib.image.AxesImage at 0x7f6da51c9510>"
            ]
          },
          "metadata": {},
          "execution_count": 93
        },
        {
          "output_type": "display_data",
          "data": {
            "image/png": "[encoded data removed]",
            "text/plain": [
              "<Figure size 432x288 with 1 Axes>"
            ]
          },
          "metadata": {
            "needs_background": "light"
          }
        }
      ]
    },
    {
      "cell_type": "code",
      "metadata": {
        "id": "uyfHD0pclJcx"
      },
      "source": [
        "prediction = model.predict(reshaped_img_array)"
      ],
      "execution_count": 94,
      "outputs": []
    },
    {
      "cell_type": "code",
      "metadata": {
        "id": "zIhwgmaYljOk"
      },
      "source": [
        "predicted_value = class_name[np.argmax(prediction)]"
      ],
      "execution_count": 95,
      "outputs": []
    },
    {
      "cell_type": "code",
      "metadata": {
        "colab": {
          "base_uri": "https://localhost:8080/",
          "height": 35
        },
        "id": "BTkogBwSlOaN",
        "outputId": "0a62000b-03f2-472f-893c-fe86258b9236"
      },
      "source": [
        "predicted_value"
      ],
      "execution_count": 96,
      "outputs": [
        {
          "output_type": "execute_result",
          "data": {
            "application/vnd.google.colaboratory.intrinsic+json": {
              "type": "string"
            },
            "text/plain": [
              "'cat'"
            ]
          },
          "metadata": {},
          "execution_count": 96
        }
      ]
    },
    {
      "cell_type": "code",
      "metadata": {
        "id": "dyzzC7jklU_e"
      },
      "source": [
        "#load and save model\n",
        "model.save('cnn_model.h5')"
      ],
      "execution_count": 97,
      "outputs": []
    },
    {
      "cell_type": "code",
      "source": [
        "import tensorflow as tf"
      ],
      "metadata": {
        "id": "wavNBaRrFvhu"
      },
      "execution_count": 99,
      "outputs": []
    },
    {
      "cell_type": "code",
      "source": [
        "model2 = tf.keras.models.load_model(\"cnn_model.h5\")"
      ],
      "metadata": {
        "id": "jIeA71P5FH-0"
      },
      "execution_count": 100,
      "outputs": []
    },
    {
      "cell_type": "code",
      "source": [
        "prediction2 = model2.predict(reshaped_img_array)"
      ],
      "metadata": {
        "id": "SGRUsdzDFTnA"
      },
      "execution_count": 101,
      "outputs": []
    },
    {
      "cell_type": "code",
      "source": [
        "predicted_value = class_name[np.argmax(prediction2)]"
      ],
      "metadata": {
        "id": "abGRqsUkF8SM"
      },
      "execution_count": 102,
      "outputs": []
    },
    {
      "cell_type": "code",
      "source": [
        "predicted_value"
      ],
      "metadata": {
        "colab": {
          "base_uri": "https://localhost:8080/",
          "height": 35
        },
        "id": "x-W4nyzCF9K3",
        "outputId": "53f43de7-3cf5-4b8b-e1ae-a958649f846a"
      },
      "execution_count": 103,
      "outputs": [
        {
          "output_type": "execute_result",
          "data": {
            "application/vnd.google.colaboratory.intrinsic+json": {
              "type": "string"
            },
            "text/plain": [
              "'cat'"
            ]
          },
          "metadata": {},
          "execution_count": 103
        }
      ]
    },
    {
      "cell_type": "code",
      "source": [
        ""
      ],
      "metadata": {
        "id": "BnWq8rBVF924"
      },
      "execution_count": null,
      "outputs": []
    }
  ]
}