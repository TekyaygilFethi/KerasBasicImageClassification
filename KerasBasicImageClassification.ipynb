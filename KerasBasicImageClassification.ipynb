{
  "nbformat": 4,
  "nbformat_minor": 0,
  "metadata": {
    "colab": {
      "name": "KerasBasicImageClassification.ipynb",
      "provenance": [],
      "collapsed_sections": [],
      "authorship_tag": "ABX9TyOCqu9htx4xqKzunmZYDHsB",
      "include_colab_link": true
    },
    "kernelspec": {
      "name": "python3",
      "display_name": "Python 3"
    },
    "accelerator": "GPU"
  },
  "cells": [
    {
      "cell_type": "markdown",
      "metadata": {
        "id": "view-in-github",
        "colab_type": "text"
      },
      "source": [
        "<a href=\"https://colab.research.google.com/github/TekyaygilFethi/KerasBasicImageClassification/blob/main/KerasBasicImageClassification.ipynb\" target=\"_parent\"><img src=\"https://colab.research.google.com/assets/colab-badge.svg\" alt=\"Open In Colab\"/></a>"
      ]
    },
    {
      "cell_type": "code",
      "metadata": {
        "id": "YoXqNbcRrxwp"
      },
      "source": [
        "# Recommending to change runtime type to GPU for performance"
      ],
      "execution_count": null,
      "outputs": []
    },
    {
      "cell_type": "code",
      "metadata": {
        "id": "UpnAskWJpG7u"
      },
      "source": [
        "from tensorflow import keras"
      ],
      "execution_count": null,
      "outputs": []
    },
    {
      "cell_type": "code",
      "metadata": {
        "id": "4PPvBRd3pNz_"
      },
      "source": [
        "#import data\n",
        "(train_images,train_labels),(test_images,test_labels) = keras.datasets.cifar10.load_data()"
      ],
      "execution_count": null,
      "outputs": []
    },
    {
      "cell_type": "code",
      "metadata": {
        "id": "Uw8ZVwqspf2M"
      },
      "source": [
        "#scaling\n",
        "train_images, test_images = train_images / 255, test_images / 255"
      ],
      "execution_count": null,
      "outputs": []
    },
    {
      "cell_type": "code",
      "metadata": {
        "id": "Tv4bDvSkqT-E"
      },
      "source": [
        "from keras import layers, models, losses"
      ],
      "execution_count": null,
      "outputs": []
    },
    {
      "cell_type": "code",
      "metadata": {
        "id": "9fXJ96WMrDY0"
      },
      "source": [
        "#Create model\n",
        "model = models.Sequential()"
      ],
      "execution_count": null,
      "outputs": []
    },
    {
      "cell_type": "code",
      "metadata": {
        "id": "VqlaogdWqZb7"
      },
      "source": [
        "#Create CNN Layers\n",
        "model.add(layers.Conv2D(32,(3,3),activation=\"relu\",input_shape=(32,32,3)))\n",
        "model.add(layers.MaxPooling2D())\n",
        "model.add(layers.Conv2D(64,(3,3),activation=\"relu\"))\n",
        "model.add(layers.MaxPooling2D())\n",
        "model.add(layers.Conv2D(64,(3,3),activation=\"relu\"))"
      ],
      "execution_count": null,
      "outputs": []
    },
    {
      "cell_type": "code",
      "metadata": {
        "id": "pngUHQFUrKgc"
      },
      "source": [
        "#Create Dense Layers\n",
        "model.add(layers.Flatten())\n",
        "model.add(layers.Dense(64,activation=\"relu\"))\n",
        "model.add(layers.Dense(10))"
      ],
      "execution_count": null,
      "outputs": []
    },
    {
      "cell_type": "code",
      "metadata": {
        "id": "5j84ek-Grl-t"
      },
      "source": [
        "#Compile Model\n",
        "model.compile(optimizer=\"adam\",\n",
        "              loss=losses.SparseCategoricalCrossentropy(from_logits=True),\n",
        "              metrics=[\"accuracy\"])"
      ],
      "execution_count": null,
      "outputs": []
    },
    {
      "cell_type": "code",
      "metadata": {
        "id": "rl70prSor-FA"
      },
      "source": [
        "from keras.preprocessing.image import ImageDataGenerator"
      ],
      "execution_count": null,
      "outputs": []
    },
    {
      "cell_type": "code",
      "metadata": {
        "id": "Gp5huwyEsGYy"
      },
      "source": [
        "# To increase our input data we use Image Augmentation\n",
        "datagen = ImageDataGenerator(\n",
        "     rotation_range=40,\n",
        "    width_shift_range=0.2,\n",
        "    height_shift_range=0.2,\n",
        "    shear_range=0.2,\n",
        "    zoom_range=0.2,\n",
        "    horizontal_flip=True,\n",
        "    fill_mode='nearest'\n",
        ")"
      ],
      "execution_count": null,
      "outputs": []
    },
    {
      "cell_type": "code",
      "metadata": {
        "id": "LmNA33f-sPZo"
      },
      "source": [
        "# Fit the train_images to datagen\n",
        "datagen.fit(train_images)"
      ],
      "execution_count": null,
      "outputs": []
    },
    {
      "cell_type": "code",
      "metadata": {
        "id": "azmP1WFjsRuZ"
      },
      "source": [
        "#Fit the model with datagen\n",
        "model.fit(datagen.flow(train_images, train_labels), \n",
        "          batch_size= 32, steps_per_epoch=len(train_images)/32,\n",
        "          epochs=25, verbose=1)"
      ],
      "execution_count": null,
      "outputs": []
    },
    {
      "cell_type": "code",
      "metadata": {
        "id": "Dm7ZhOHcsnIF"
      },
      "source": [
        "#evaluate the model and get loss with accuracy metric\n",
        "loss = model.evaluate(datagen.flow(test_images, test_labels),batch_size=32)"
      ],
      "execution_count": null,
      "outputs": []
    },
    {
      "cell_type": "code",
      "metadata": {
        "id": "ukAXF3DU_2dU"
      },
      "source": [
        "prediction = model.predict(test_images)"
      ],
      "execution_count": null,
      "outputs": []
    },
    {
      "cell_type": "code",
      "metadata": {
        "id": "oYTpcY07Chnw"
      },
      "source": [
        "import matplotlib.pyplot as plt\n",
        "import numpy as np"
      ],
      "execution_count": null,
      "outputs": []
    },
    {
      "cell_type": "code",
      "metadata": {
        "id": "HMqw9eNyC7eI"
      },
      "source": [
        "class_names=[\"airplane\",\"automobile\",\"bird\",\"cat\",\n",
        "             \"deer\",\"dog\",\"frog\",\"horse\",\"ship\",\"truck\"]"
      ],
      "execution_count": null,
      "outputs": []
    },
    {
      "cell_type": "code",
      "metadata": {
        "id": "C8Y-Is1rDJkD"
      },
      "source": [
        "INDEX=\"\"\n",
        "while INDEX.isdigit() == False:\n",
        "  INDEX = input(\"Lütfen tahmin gerçekleştirmek istediğiniz indeksi girin: \")\n",
        "\n",
        "INDEX = int(INDEX)\n",
        "\n",
        "predicted_value=class_names[np.argmax(prediction[INDEX])]\n",
        "actual_value= class_names[test_labels[INDEX][0]]\n",
        "\n",
        "print(f\"Real Value: {actual_value} - Predicted Value: {predicted_value} (%{max(prediction[INDEX])}\")\n",
        "plt.imshow(test_images[INDEX])"
      ],
      "execution_count": null,
      "outputs": []
    }
  ]
}